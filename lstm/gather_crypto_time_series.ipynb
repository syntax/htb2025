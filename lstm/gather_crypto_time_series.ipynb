{
 "cells": [
  {
   "cell_type": "code",
   "execution_count": 1,
   "metadata": {},
   "outputs": [],
   "source": [
    "import pandas as pd\n",
    "import numpy as np\n",
    "import yfinance as yf\n",
    "from sklearn.preprocessing import MinMaxScaler\n",
    "from tensorflow.keras.models import Sequential\n",
    "from tensorflow.keras.layers import LSTM, Dense, Dropout\n",
    "from tensorflow.keras.optimizers import Adam\n",
    "from datetime import datetime, timedelta\n",
    "\n",
    "import joblib  # for saving the scaler"
   ]
  },
  {
   "cell_type": "code",
   "execution_count": 2,
   "metadata": {},
   "outputs": [
    {
     "name": "stdout",
     "output_type": "stream",
     "text": [
      "Tickers found: ['LEO-USD', 'BUSD-USD', 'BAT-USD', 'AXS-USD', 'SAND-USD', 'QNT-USD', 'PRIME-USD', 'MANA-USD', 'GRT-USD', 'APE-USD', 'CRV-USD', 'DAI-USD', 'ONDO-USD', 'LINK-USD', 'WBTC-USD', 'POL-USD', 'SHIB-USD', 'AAVE-USD', 'BNB-USD', 'CHZ-USD', 'USDC-USD', 'UNI-USD', 'CELO-USD', 'IOTA-USD', 'CSPR-USD', 'XLM-USD', 'VET-USD', 'INJ-USD', 'BSV-USD', 'DASH-USD', 'SC-USD', 'ZK-USD', 'XTZ-USD', 'OP-USD', 'APT-USD', 'ADA-USD', 'XRP-USD', 'DOT-USD', 'ATOM-USD', 'SUI-USD', 'ALGO-USD', 'BCH-USD', 'ARB-USD', 'AVAX-USD', 'NEAR-USD', 'TRX-USD', 'TON-USD', 'ETH-USD', 'LTC-USD', 'SOL-USD', 'DOGE-USD', 'FIL-USD', 'BTC-USD']\n"
     ]
    }
   ],
   "source": [
    "# --- 1. Read CSV of tickers and ensure correct format ---\n",
    "csv_file = \"environmental_ratings.csv\"\n",
    "tickers_df = pd.read_csv(csv_file, header=None)\n",
    "tickers = tickers_df[1].unique().tolist()  # Assuming tickers are in the second column\n",
    "\n",
    "# Convert all tickers to \"TICKER-USD\" format\n",
    "tickers = [tk.upper() + \"-USD\" if not tk.endswith(\"-USD\") else tk for tk in tickers]\n",
    "tickers = tickers[1:]\n",
    "\n",
    "print(\"Tickers found:\", tickers)"
   ]
  },
  {
   "cell_type": "code",
   "execution_count": 3,
   "metadata": {},
   "outputs": [],
   "source": [
    "# --- 2. Define date ranges ---\n",
    "TRAIN_START = \"2018-01-01\"  # Start date for training data\n",
    "\n",
    "# Set TRAIN_END to yesterday (or nearest previous weekday if weekend)\n",
    "today = datetime.today().date()\n",
    "yesterday = today - timedelta(days=1)\n",
    "\n",
    "# Ensure yesterday is a weekday (if not, use last available trading day)\n",
    "if yesterday.weekday() == 6:  # Sunday → Use Friday\n",
    "    yesterday -= timedelta(days=2)\n",
    "elif yesterday.weekday() == 5:  # Saturday → Use Friday\n",
    "    yesterday -= timedelta(days=1)\n",
    "\n",
    "TRAIN_END = yesterday.strftime(\"%Y-%m-%d\")  # Convert to string format for yfinance"
   ]
  },
  {
   "cell_type": "code",
   "execution_count": 4,
   "metadata": {},
   "outputs": [
    {
     "name": "stdout",
     "output_type": "stream",
     "text": [
      "Fetching LEO-USD from 2018-01-01 to 2025-02-28...\n",
      "YF.download() has changed argument auto_adjust default to True\n"
     ]
    },
    {
     "name": "stderr",
     "output_type": "stream",
     "text": [
      "[*********************100%***********************]  1 of 1 completed\n",
      "[*********************100%***********************]  1 of 1 completed\n"
     ]
    },
    {
     "name": "stdout",
     "output_type": "stream",
     "text": [
      "Fetching BUSD-USD from 2018-01-01 to 2025-02-28...\n",
      "Fetching BAT-USD from 2018-01-01 to 2025-02-28...\n"
     ]
    },
    {
     "name": "stderr",
     "output_type": "stream",
     "text": [
      "[*********************100%***********************]  1 of 1 completed\n",
      "[*********************100%***********************]  1 of 1 completed\n",
      "[*********************100%***********************]  1 of 1 completed\n"
     ]
    },
    {
     "name": "stdout",
     "output_type": "stream",
     "text": [
      "Fetching AXS-USD from 2018-01-01 to 2025-02-28...\n",
      "Fetching SAND-USD from 2018-01-01 to 2025-02-28...\n",
      "Fetching QNT-USD from 2018-01-01 to 2025-02-28...\n"
     ]
    },
    {
     "name": "stderr",
     "output_type": "stream",
     "text": [
      "[*********************100%***********************]  1 of 1 completed\n",
      "[*********************100%***********************]  1 of 1 completed\n",
      "[*********************100%***********************]  1 of 1 completed"
     ]
    },
    {
     "name": "stdout",
     "output_type": "stream",
     "text": [
      "Fetching PRIME-USD from 2018-01-01 to 2025-02-28...\n",
      "Fetching MANA-USD from 2018-01-01 to 2025-02-28...\n"
     ]
    },
    {
     "name": "stderr",
     "output_type": "stream",
     "text": [
      "\n",
      "[*********************100%***********************]  1 of 1 completed\n",
      "[*********************100%***********************]  1 of 1 completed\n"
     ]
    },
    {
     "name": "stdout",
     "output_type": "stream",
     "text": [
      "Fetching GRT-USD from 2018-01-01 to 2025-02-28...\n",
      "Fetching APE-USD from 2018-01-01 to 2025-02-28...\n",
      "Fetching CRV-USD from 2018-01-01 to 2025-02-28...\n"
     ]
    },
    {
     "name": "stderr",
     "output_type": "stream",
     "text": [
      "[*********************100%***********************]  1 of 1 completed\n",
      "[*********************100%***********************]  1 of 1 completed\n"
     ]
    },
    {
     "name": "stdout",
     "output_type": "stream",
     "text": [
      "Fetching DAI-USD from 2018-01-01 to 2025-02-28...\n",
      "Fetching ONDO-USD from 2018-01-01 to 2025-02-28...\n"
     ]
    },
    {
     "name": "stderr",
     "output_type": "stream",
     "text": [
      "[*********************100%***********************]  1 of 1 completed\n",
      "[*********************100%***********************]  1 of 1 completed\n"
     ]
    },
    {
     "name": "stdout",
     "output_type": "stream",
     "text": [
      "Fetching LINK-USD from 2018-01-01 to 2025-02-28...\n",
      "Fetching WBTC-USD from 2018-01-01 to 2025-02-28...\n"
     ]
    },
    {
     "name": "stderr",
     "output_type": "stream",
     "text": [
      "[*********************100%***********************]  1 of 1 completed\n",
      "[*********************100%***********************]  1 of 1 completed\n",
      "[*********************100%***********************]  1 of 1 completed\n"
     ]
    },
    {
     "name": "stdout",
     "output_type": "stream",
     "text": [
      "Fetching POL-USD from 2018-01-01 to 2025-02-28...\n",
      "Fetching SHIB-USD from 2018-01-01 to 2025-02-28...\n",
      "Fetching AAVE-USD from 2018-01-01 to 2025-02-28...\n"
     ]
    },
    {
     "name": "stderr",
     "output_type": "stream",
     "text": [
      "[*********************100%***********************]  1 of 1 completed\n",
      "[*********************100%***********************]  1 of 1 completed\n",
      "[*********************100%***********************]  1 of 1 completed\n"
     ]
    },
    {
     "name": "stdout",
     "output_type": "stream",
     "text": [
      "Fetching BNB-USD from 2018-01-01 to 2025-02-28...\n",
      "Fetching CHZ-USD from 2018-01-01 to 2025-02-28...\n"
     ]
    },
    {
     "name": "stderr",
     "output_type": "stream",
     "text": [
      "[*********************100%***********************]  1 of 1 completed\n"
     ]
    },
    {
     "name": "stdout",
     "output_type": "stream",
     "text": [
      "Fetching USDC-USD from 2018-01-01 to 2025-02-28...\n",
      "Fetching UNI-USD from 2018-01-01 to 2025-02-28...\n"
     ]
    },
    {
     "name": "stderr",
     "output_type": "stream",
     "text": [
      "[*********************100%***********************]  1 of 1 completed\n",
      "[*********************100%***********************]  1 of 1 completed\n",
      "[*********************100%***********************]  1 of 1 completed\n"
     ]
    },
    {
     "name": "stdout",
     "output_type": "stream",
     "text": [
      "Fetching CELO-USD from 2018-01-01 to 2025-02-28...\n",
      "Fetching IOTA-USD from 2018-01-01 to 2025-02-28...\n",
      "Fetching CSPR-USD from 2018-01-01 to 2025-02-28...\n"
     ]
    },
    {
     "name": "stderr",
     "output_type": "stream",
     "text": [
      "[*********************100%***********************]  1 of 1 completed\n",
      "[*********************100%***********************]  1 of 1 completed\n"
     ]
    },
    {
     "name": "stdout",
     "output_type": "stream",
     "text": [
      "Fetching XLM-USD from 2018-01-01 to 2025-02-28...\n",
      "Fetching VET-USD from 2018-01-01 to 2025-02-28...\n"
     ]
    },
    {
     "name": "stderr",
     "output_type": "stream",
     "text": [
      "[*********************100%***********************]  1 of 1 completed\n",
      "[*********************100%***********************]  1 of 1 completed\n",
      "[*********************100%***********************]  1 of 1 completed\n"
     ]
    },
    {
     "name": "stdout",
     "output_type": "stream",
     "text": [
      "Fetching INJ-USD from 2018-01-01 to 2025-02-28...\n",
      "Fetching BSV-USD from 2018-01-01 to 2025-02-28...\n",
      "Fetching DASH-USD from 2018-01-01 to 2025-02-28...\n"
     ]
    },
    {
     "name": "stderr",
     "output_type": "stream",
     "text": [
      "[*********************100%***********************]  1 of 1 completed\n",
      "[*********************100%***********************]  1 of 1 completed\n",
      "[*********************100%***********************]  1 of 1 completed\n"
     ]
    },
    {
     "name": "stdout",
     "output_type": "stream",
     "text": [
      "Fetching SC-USD from 2018-01-01 to 2025-02-28...\n",
      "Fetching ZK-USD from 2018-01-01 to 2025-02-28...\n",
      "Fetching XTZ-USD from 2018-01-01 to 2025-02-28...\n"
     ]
    },
    {
     "name": "stderr",
     "output_type": "stream",
     "text": [
      "[*********************100%***********************]  1 of 1 completed\n",
      "[*********************100%***********************]  1 of 1 completed\n",
      "[*********************100%***********************]  1 of 1 completed\n"
     ]
    },
    {
     "name": "stdout",
     "output_type": "stream",
     "text": [
      "Fetching OP-USD from 2018-01-01 to 2025-02-28...\n",
      "Fetching APT-USD from 2018-01-01 to 2025-02-28...\n",
      "Fetching ADA-USD from 2018-01-01 to 2025-02-28...\n"
     ]
    },
    {
     "name": "stderr",
     "output_type": "stream",
     "text": [
      "[*********************100%***********************]  1 of 1 completed\n",
      "[*********************100%***********************]  1 of 1 completed\n"
     ]
    },
    {
     "name": "stdout",
     "output_type": "stream",
     "text": [
      "Fetching XRP-USD from 2018-01-01 to 2025-02-28...\n",
      "Fetching DOT-USD from 2018-01-01 to 2025-02-28...\n"
     ]
    },
    {
     "name": "stderr",
     "output_type": "stream",
     "text": [
      "[*********************100%***********************]  1 of 1 completed\n",
      "[*********************100%***********************]  1 of 1 completed\n",
      "[*********************100%***********************]  1 of 1 completed\n"
     ]
    },
    {
     "name": "stdout",
     "output_type": "stream",
     "text": [
      "Fetching ATOM-USD from 2018-01-01 to 2025-02-28...\n",
      "Fetching SUI-USD from 2018-01-01 to 2025-02-28...\n",
      "Fetching ALGO-USD from 2018-01-01 to 2025-02-28...\n"
     ]
    },
    {
     "name": "stderr",
     "output_type": "stream",
     "text": [
      "[*********************100%***********************]  1 of 1 completed\n",
      "[*********************100%***********************]  1 of 1 completed\n",
      "[*********************100%***********************]  1 of 1 completed"
     ]
    },
    {
     "name": "stdout",
     "output_type": "stream",
     "text": [
      "Fetching BCH-USD from 2018-01-01 to 2025-02-28...\n",
      "Fetching ARB-USD from 2018-01-01 to 2025-02-28...\n"
     ]
    },
    {
     "name": "stderr",
     "output_type": "stream",
     "text": [
      "\n",
      "[*********************100%***********************]  1 of 1 completed\n",
      "[*********************100%***********************]  1 of 1 completed\n"
     ]
    },
    {
     "name": "stdout",
     "output_type": "stream",
     "text": [
      "Fetching AVAX-USD from 2018-01-01 to 2025-02-28...\n",
      "Fetching NEAR-USD from 2018-01-01 to 2025-02-28...\n",
      "Fetching TRX-USD from 2018-01-01 to 2025-02-28...\n"
     ]
    },
    {
     "name": "stderr",
     "output_type": "stream",
     "text": [
      "[*********************100%***********************]  1 of 1 completed\n",
      "[*********************100%***********************]  1 of 1 completed\n",
      "[*********************100%***********************]  1 of 1 completed\n"
     ]
    },
    {
     "name": "stdout",
     "output_type": "stream",
     "text": [
      "Fetching TON-USD from 2018-01-01 to 2025-02-28...\n",
      "Fetching ETH-USD from 2018-01-01 to 2025-02-28...\n",
      "Fetching LTC-USD from 2018-01-01 to 2025-02-28...\n"
     ]
    },
    {
     "name": "stderr",
     "output_type": "stream",
     "text": [
      "[*********************100%***********************]  1 of 1 completed\n"
     ]
    },
    {
     "name": "stdout",
     "output_type": "stream",
     "text": [
      "Fetching SOL-USD from 2018-01-01 to 2025-02-28...\n"
     ]
    },
    {
     "name": "stderr",
     "output_type": "stream",
     "text": [
      "[*********************100%***********************]  1 of 1 completed\n",
      "[*********************100%***********************]  1 of 1 completed\n"
     ]
    },
    {
     "name": "stdout",
     "output_type": "stream",
     "text": [
      "Fetching DOGE-USD from 2018-01-01 to 2025-02-28...\n",
      "Fetching FIL-USD from 2018-01-01 to 2025-02-28...\n"
     ]
    },
    {
     "name": "stderr",
     "output_type": "stream",
     "text": [
      "[*********************100%***********************]  1 of 1 completed\n",
      "[*********************100%***********************]  1 of 1 completed"
     ]
    },
    {
     "name": "stdout",
     "output_type": "stream",
     "text": [
      "Fetching BTC-USD from 2018-01-01 to 2025-02-28...\n"
     ]
    },
    {
     "name": "stderr",
     "output_type": "stream",
     "text": [
      "\n"
     ]
    }
   ],
   "source": [
    "# --- 3. Fetch Data for Each Ticker ---\n",
    "frames = []\n",
    "failed_tickers = []\n",
    "\n",
    "for tk in tickers:\n",
    "    print(f\"Fetching {tk} from {TRAIN_START} to {TRAIN_END}...\")\n",
    "\n",
    "    try:\n",
    "        data = yf.download(tk, start=TRAIN_START, end=TRAIN_END)\n",
    "\n",
    "        # Handle MultiIndex: Ensure we have a standard DataFrame\n",
    "        if isinstance(data.columns, pd.MultiIndex):\n",
    "            data.columns = ['_'.join(col).strip() for col in data.columns.values]  # Flatten MultiIndex\n",
    "\n",
    "        # Ensure the data contains \"Close\" column before proceeding\n",
    "        if data.empty or not any(col.startswith(\"Close\") for col in data.columns):\n",
    "            print(f\"Warning: No valid 'Close' column found for {tk}, skipping.\")\n",
    "            failed_tickers.append(tk)\n",
    "            continue\n",
    "\n",
    "        # Rename \"Close\" column explicitly in case of variations\n",
    "        for col in data.columns:\n",
    "            if col.startswith(\"Close\"):\n",
    "                data.rename(columns={col: \"Close\"}, inplace=True)\n",
    "\n",
    "        # Add ticker column and store valid DataFrame\n",
    "        data[\"Ticker\"] = tk\n",
    "        frames.append(data)\n",
    "\n",
    "    except Exception as e:\n",
    "        print(f\"Error fetching {tk}: {e}\")\n",
    "        failed_tickers.append(tk)"
   ]
  },
  {
   "cell_type": "code",
   "execution_count": 5,
   "metadata": {},
   "outputs": [
    {
     "name": "stdout",
     "output_type": "stream",
     "text": [
      "Data saved to crypto_price_data.csv\n",
      "Failed tickers (0): []\n"
     ]
    }
   ],
   "source": [
    "# --- 4. Merge Data and Handle Missing Values ---\n",
    "if frames:\n",
    "    all_data = pd.concat(frames).reset_index()\n",
    "\n",
    "    # Ensure \"Close\" column exists before dropping NaN values\n",
    "    if \"Close\" in all_data.columns:\n",
    "        all_data = all_data.dropna(subset=[\"Close\"])\n",
    "    else:\n",
    "        print(\"No valid 'Close' column found in final dataset. Exiting.\")\n",
    "        exit(1)\n",
    "\n",
    "    all_data.sort_values(by=[\"Ticker\", \"Date\"], inplace=True)\n",
    "    all_data.reset_index(drop=True, inplace=True)\n",
    "\n",
    "    # Save Cleaned Data\n",
    "    all_data.to_csv(\"crypto_price_data.csv\", index=False)\n",
    "    print(f\"Data saved to crypto_price_data.csv\")\n",
    "\n",
    "else:\n",
    "    print(\"No valid data was downloaded. Exiting.\")\n",
    "    exit(1)\n",
    "\n",
    "# Print failed tickers for debugging\n",
    "print(f\"Failed tickers ({len(failed_tickers)}): {failed_tickers}\")"
   ]
  }
 ],
 "metadata": {
  "kernelspec": {
   "display_name": "lstm_env",
   "language": "python",
   "name": "python3"
  },
  "language_info": {
   "codemirror_mode": {
    "name": "ipython",
    "version": 3
   },
   "file_extension": ".py",
   "mimetype": "text/x-python",
   "name": "python",
   "nbconvert_exporter": "python",
   "pygments_lexer": "ipython3",
   "version": "3.12.2"
  }
 },
 "nbformat": 4,
 "nbformat_minor": 2
}
